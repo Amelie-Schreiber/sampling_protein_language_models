{
  "nbformat": 4,
  "nbformat_minor": 0,
  "metadata": {
    "colab": {
      "provenance": [],
      "gpuType": "T4",
      "include_colab_link": true
    },
    "kernelspec": {
      "name": "python3",
      "display_name": "Python 3"
    },
    "language_info": {
      "name": "python"
    },
    "accelerator": "GPU"
  },
  "cells": [
    {
      "cell_type": "markdown",
      "metadata": {
        "id": "view-in-github",
        "colab_type": "text"
      },
      "source": [
        "<a href=\"https://colab.research.google.com/github/Amelie-Schreiber/sampling_protein_language_models/blob/main/EvoProtGrad.ipynb\" target=\"_parent\"><img src=\"https://colab.research.google.com/assets/colab-badge.svg\" alt=\"Open In Colab\"/></a>"
      ]
    },
    {
      "cell_type": "markdown",
      "source": [
        "\n",
        "# <b><font color='#009e74'>EvoProtGrad: Directed EVOlution on a PROTein sequence with GRADient-based discrete Markov chain monte carlo</font></b>\n",
        "\n",
        "EvoProtGrad is a Python package for directed evolution of proteins in sequence space with gradients.\n",
        "\n",
        "Compose a custom protein model that maps sequence to function with  pretrained models, including protein language models (PLMs), to guide and constrain search. Natively integrates with 🤗 HuggingFace transformers. The MCMC sampler identifies promising amino acids to mutate via model gradients taken with respect to the input (i.e., sensitivity analysis).\n",
        "\n",
        "Use this colab to demo the sampler. Input a protein sequence and output a population of variants.\n",
        "\n",
        "Link to paper: https://doi.org/10.1088/2632-2153/accacd\n",
        "\n",
        "\n",
        "colab by @pemami4911."
      ],
      "metadata": {
        "id": "2XLeiiEvmfZW"
      }
    },
    {
      "cell_type": "markdown",
      "source": [
        "##  <b><font color='#009e74'> Reminders and Important informations:</font></b>\n",
        "- It is recommended to run in a Colab GPU session (go to page menu: `Runtime`->  `Change runtime type` -> select `GPU` and confirm\n",
        "- Cells labelled <b><font color='#56b4e9'>PRELIMINARY OPERATIONS </font></b>  must be run <b><font color='#d55c00'>ONE</font></b> at a time and <b><font color='#d55c00'>ONCE</font></b> at the start and skipped for new predictions.\n",
        "- <b><font color='#d55c00'>ONE</font></b> wildtype protein sequence at a time can be processed by the pipeline.\n",
        "- A  <b><font color='#d55c00'>new run</font></b> can be performed by re-running the protein sequence upload cell and running the sampling cell again\n",
        "\n",
        "****"
      ],
      "metadata": {
        "id": "J3uNyWk-c0qi"
      }
    },
    {
      "cell_type": "code",
      "source": [
        "#@title <b><font color='#56b4e9'>PRELIMINARY OPERATIONS</font>: Setup enviroment and dependencies</b>\n",
        "\n",
        "#@markdown Run this cell to install the required enviroment and dependencies\n",
        "\n",
        "#@markdown **N.B: This cell should be run only ONCE at the START of the notebook.**\n",
        "! rm -r sample_data\n",
        "\n",
        "# install dependencies present in pip\n",
        "! pip install evo_prot_grad &> /dev/null\n",
        "\n",
        "\n"
      ],
      "metadata": {
        "id": "-mz5dxO6rZtD",
        "cellView": "form"
      },
      "execution_count": null,
      "outputs": []
    },
    {
      "cell_type": "code",
      "source": [
        "#@title <b><font color='#56b4e9'>PRELIMINARY OPERATIONS</font>: Import python library</b>\n",
        "\n",
        "#@markdown **N.B: This cell only needs to be run ONCE at the START of the notebook.**\n",
        "\n",
        "import evo_prot_grad"
      ],
      "metadata": {
        "cellView": "form",
        "id": "p7YiMYr_gfQi"
      },
      "execution_count": null,
      "outputs": []
    },
    {
      "cell_type": "markdown",
      "source": [
        "## <b><font color='#009e74'>PIPELINE : SAMPLER </font></b>\n",
        "\n",
        "Default: [GFP_AEQVI](https://www.uniprot.org/uniprotkb/P42212/entry)"
      ],
      "metadata": {
        "id": "fT_2fHrNd7Nc"
      }
    },
    {
      "cell_type": "code",
      "source": [
        "#@title <b><font color='#56b4e9'> Wildtype protein sequence upload</font></b>\n",
        "\n",
        "wildtype_sequence = 'SKGEELFTGVVPILVELDGDVNGHKFSVSGEGEGDATYGKLTLKFICTTGKLPVPWPTLVTTLSYGVQCFSRYPDHMKQHDFFKSAMPEGYVQERTIFFKDDGNYKTRAEVKFEGDTLVNRIELKGIDFKEDGNILGHKLEYNYNSHNVYIMADKQKNGIKVNFKIRHNIEDGSVQLADHYQQNTPIGDGPVLLPDNHYLSTQSALSKDPNEKRDHMVLLEFVTAAGITHGMDELYK' #@param {type:\"string\"}"
      ],
      "metadata": {
        "cellView": "form",
        "id": "dJwB_tqhb-5U"
      },
      "execution_count": null,
      "outputs": []
    },
    {
      "cell_type": "code",
      "source": [
        "#@title <b><font color='#56b4e9'> Protein Language Model expert selector </font></b>\n",
        "\n",
        "protein_language_model_expert = 'bert' # @param [\"esm\", \"bert\", \"causallm\"] {allow-input: true}\n",
        "\n",
        "expert = evo_prot_grad.get_expert(protein_language_model_expert, temperature = 1.0, device = 'cuda')\n"
      ],
      "metadata": {
        "cellView": "form",
        "id": "KhlnJKN_fbdT"
      },
      "execution_count": null,
      "outputs": []
    },
    {
      "cell_type": "code",
      "source": [
        "#@title <b><font color='#56b4e9'> Pipeline SAMPLER </font></b>\n",
        "\n",
        "#@markdown <b><font color='#d55c00'>Execute the cell</font></b> to run the sampler and produce a list of variants and Product of Experts scores.\n",
        "\n",
        "variants, scores = evo_prot_grad.DirectedEvolution(\n",
        "                   wt_protein = wildtype_sequence,\n",
        "                   output = 'best',                # return best, last, all variants\n",
        "                   experts = [expert],             # list of experts to compose\n",
        "                   parallel_chains = 2,            # number of parallel chains to run\n",
        "                   n_steps = 100,                  # number of MCMC steps per chain\n",
        "                   max_mutations = -1,             # maximum number of mutations per variant\n",
        "                   preserved_regions = None,       # List of regions (start,end) to preserve\n",
        "                   verbose = False                 # print debug info to command line\n",
        ")()\n",
        "\n",
        "wtseq = ' '.join(wildtype_sequence.strip())\n",
        "\n",
        "for v,s in zip(variants,scores):\n",
        "  evo_prot_grad.common.utils.print_variant_in_color(v, wtseq)\n",
        "  print(s)"
      ],
      "metadata": {
        "id": "I429UUUBfNhn"
      },
      "execution_count": null,
      "outputs": []
    },
    {
      "cell_type": "markdown",
      "source": [
        "**License:**\n",
        "\n",
        "EvoProtGrad's source code is licensed under the permissive BSD 3-Clause license.\n",
        "\n",
        "\\\\\n",
        "\n",
        "**Bugs:**\n",
        "\n",
        "For any bugs please report the issue on the project [Github](https://github.com/NREL/EvoProtGrad) or contact Patrick Emami (Patrick.Emami@nrel.gov).\n",
        "\n",
        "\\\\\n",
        "\n",
        "**Citing this work:**\n",
        "\n",
        "If you use our package please cite:\n",
        "\n",
        "\n",
        "```\n",
        "@article{emami2023plug,\n",
        "  title={Plug \\& play directed evolution of proteins with gradient-based discrete MCMC},\n",
        "  author={Emami, Patrick and Perreault, Aidan and Law, Jeffrey and Biagioni, David and John, Peter St},\n",
        "  journal={Machine Learning: Science and Technology},\n",
        "  volume={4},\n",
        "  number={2},\n",
        "  pages={025014},\n",
        "  year={2023},\n",
        "  publisher={IOP Publishing}\n",
        "}\n",
        "```"
      ],
      "metadata": {
        "id": "qsQN-skknuun"
      }
    }
  ]
}